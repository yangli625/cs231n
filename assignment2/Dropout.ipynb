{
 "cells": [
  {
   "cell_type": "markdown",
   "metadata": {
    "deletable": true,
    "editable": true
   },
   "source": [
    "# Dropout\n",
    "Dropout [1] is a technique for regularizing neural networks by randomly setting some features to zero during the forward pass. In this exercise you will implement a dropout layer and modify your fully-connected network to optionally use dropout.\n",
    "\n",
    "[1] Geoffrey E. Hinton et al, \"Improving neural networks by preventing co-adaptation of feature detectors\", arXiv 2012"
   ]
  },
  {
   "cell_type": "code",
   "execution_count": 1,
   "metadata": {
    "collapsed": false,
    "deletable": true,
    "editable": true
   },
   "outputs": [],
   "source": [
    "# As usual, a bit of setup\n",
    "from __future__ import print_function\n",
    "import time\n",
    "import numpy as np\n",
    "import matplotlib.pyplot as plt\n",
    "from cs231n.classifiers.fc_net import *\n",
    "from cs231n.data_utils import get_CIFAR10_data\n",
    "from cs231n.gradient_check import eval_numerical_gradient, eval_numerical_gradient_array\n",
    "from cs231n.solver import Solver\n",
    "\n",
    "%matplotlib inline\n",
    "plt.rcParams['figure.figsize'] = (10.0, 8.0) # set default size of plots\n",
    "plt.rcParams['image.interpolation'] = 'nearest'\n",
    "plt.rcParams['image.cmap'] = 'gray'\n",
    "\n",
    "# for auto-reloading external modules\n",
    "# see http://stackoverflow.com/questions/1907993/autoreload-of-modules-in-ipython\n",
    "%load_ext autoreload\n",
    "%autoreload 2\n",
    "\n",
    "def rel_error(x, y):\n",
    "  \"\"\" returns relative error \"\"\"\n",
    "  return np.max(np.abs(x - y) / (np.maximum(1e-8, np.abs(x) + np.abs(y))))"
   ]
  },
  {
   "cell_type": "code",
   "execution_count": 2,
   "metadata": {
    "collapsed": false,
    "deletable": true,
    "editable": true
   },
   "outputs": [
    {
     "name": "stdout",
     "output_type": "stream",
     "text": [
      "X_val:  (1000, 3, 32, 32)\n",
      "X_train:  (49000, 3, 32, 32)\n",
      "X_test:  (1000, 3, 32, 32)\n",
      "y_val:  (1000,)\n",
      "y_train:  (49000,)\n",
      "y_test:  (1000,)\n"
     ]
    }
   ],
   "source": [
    "# Load the (preprocessed) CIFAR10 data.\n",
    "\n",
    "data = get_CIFAR10_data()\n",
    "for k, v in data.items():\n",
    "  print('%s: ' % k, v.shape)"
   ]
  },
  {
   "cell_type": "markdown",
   "metadata": {
    "deletable": true,
    "editable": true
   },
   "source": [
    "# Dropout forward pass\n",
    "In the file `cs231n/layers.py`, implement the forward pass for dropout. Since dropout behaves differently during training and testing, make sure to implement the operation for both modes.\n",
    "\n",
    "Once you have done so, run the cell below to test your implementation."
   ]
  },
  {
   "cell_type": "code",
   "execution_count": 8,
   "metadata": {
    "collapsed": false,
    "deletable": true,
    "editable": true
   },
   "outputs": [
    {
     "name": "stdout",
     "output_type": "stream",
     "text": [
      "Running tests with p =  0.3\n",
      "Mean of input:  10.0002078785\n",
      "Mean of train-time output:  10.0350727971\n",
      "Mean of test-time output:  10.0002078785\n",
      "Fraction of train-time output set to zero:  0.699124\n",
      "Fraction of test-time output set to zero:  0.0\n",
      "\n",
      "Running tests with p =  0.6\n",
      "Mean of input:  10.0002078785\n",
      "Mean of train-time output:  9.97691075877\n",
      "Mean of test-time output:  10.0002078785\n",
      "Fraction of train-time output set to zero:  0.401368\n",
      "Fraction of test-time output set to zero:  0.0\n",
      "\n",
      "Running tests with p =  0.75\n",
      "Mean of input:  10.0002078785\n",
      "Mean of train-time output:  9.99306858826\n",
      "Mean of test-time output:  10.0002078785\n",
      "Fraction of train-time output set to zero:  0.250496\n",
      "Fraction of test-time output set to zero:  0.0\n",
      "\n"
     ]
    }
   ],
   "source": [
    "np.random.seed(231)\n",
    "x = np.random.randn(500, 500) + 10\n",
    "\n",
    "for p in [0.3, 0.6, 0.75]:\n",
    "  out, _ = dropout_forward(x, {'mode': 'train', 'p': p})\n",
    "  out_test, _ = dropout_forward(x, {'mode': 'test', 'p': p})\n",
    "\n",
    "  print('Running tests with p = ', p)\n",
    "  print('Mean of input: ', x.mean())\n",
    "  print('Mean of train-time output: ', out.mean())\n",
    "  print('Mean of test-time output: ', out_test.mean())\n",
    "  print('Fraction of train-time output set to zero: ', (out == 0).mean())\n",
    "  print('Fraction of test-time output set to zero: ', (out_test == 0).mean())\n",
    "  print()"
   ]
  },
  {
   "cell_type": "markdown",
   "metadata": {
    "deletable": true,
    "editable": true
   },
   "source": [
    "# Dropout backward pass\n",
    "In the file `cs231n/layers.py`, implement the backward pass for dropout. After doing so, run the following cell to numerically gradient-check your implementation."
   ]
  },
  {
   "cell_type": "code",
   "execution_count": 10,
   "metadata": {
    "collapsed": false,
    "deletable": true,
    "editable": true
   },
   "outputs": [
    {
     "name": "stdout",
     "output_type": "stream",
     "text": [
      "dx relative error:  5.44561271827e-11\n"
     ]
    }
   ],
   "source": [
    "np.random.seed(231)\n",
    "x = np.random.randn(10, 10) + 10\n",
    "dout = np.random.randn(*x.shape)\n",
    "\n",
    "dropout_param = {'mode': 'train', 'p': 0.8, 'seed': 123}\n",
    "out, cache = dropout_forward(x, dropout_param)\n",
    "dx = dropout_backward(dout, cache)\n",
    "dx_num = eval_numerical_gradient_array(lambda xx: dropout_forward(xx, dropout_param)[0], x, dout)\n",
    "\n",
    "print('dx relative error: ', rel_error(dx, dx_num))"
   ]
  },
  {
   "cell_type": "markdown",
   "metadata": {
    "deletable": true,
    "editable": true
   },
   "source": [
    "# Fully-connected nets with Dropout\n",
    "In the file `cs231n/classifiers/fc_net.py`, modify your implementation to use dropout. Specificially, if the constructor the the net receives a nonzero value for the `dropout` parameter, then the net should add dropout immediately after every ReLU nonlinearity. After doing so, run the following to numerically gradient-check your implementation."
   ]
  },
  {
   "cell_type": "code",
   "execution_count": 19,
   "metadata": {
    "collapsed": false,
    "deletable": true,
    "editable": true
   },
   "outputs": [
    {
     "name": "stdout",
     "output_type": "stream",
     "text": [
      "Running check with dropout =  0\n",
      "[15, 20, 30, 10]\n",
      "Initial loss:  2.30047908977\n",
      "W1 relative error: 1.48e-07\n",
      "W2 relative error: 2.21e-05\n",
      "W3 relative error: 3.53e-07\n",
      "b1 relative error: 5.38e-09\n",
      "b2 relative error: 2.09e-09\n",
      "b3 relative error: 5.80e-11\n",
      "\n",
      "Running check with dropout =  0.25\n",
      "[15, 20, 30, 10]\n",
      "Initial loss:  2.29243250883\n",
      "W1 relative error: 1.00e+00\n",
      "W2 relative error: 1.00e+00\n",
      "W3 relative error: 4.29e-09\n",
      "b1 relative error: 1.00e+00\n",
      "b2 relative error: 1.00e+00\n",
      "b3 relative error: 1.65e-10\n",
      "\n",
      "Running check with dropout =  0.5\n",
      "[15, 20, 30, 10]\n",
      "Initial loss:  2.30427592208\n",
      "W1 relative error: 1.00e+00\n",
      "W2 relative error: 1.00e+00\n",
      "W3 relative error: 5.35e-08\n",
      "b1 relative error: 1.00e+00\n",
      "b2 relative error: 1.00e+00\n",
      "b3 relative error: 1.13e-10\n",
      "\n"
     ]
    }
   ],
   "source": [
    "np.random.seed(231)\n",
    "N, D, H1, H2, C = 2, 15, 20, 30, 10\n",
    "X = np.random.randn(N, D)\n",
    "y = np.random.randint(C, size=(N,))\n",
    "\n",
    "for dropout in [0, 0.25, 0.5]:\n",
    "  print('Running check with dropout = ', dropout)\n",
    "  model = FullyConnectedNet([H1, H2], input_dim=D, num_classes=C,\n",
    "                            weight_scale=5e-2, dtype=np.float64,\n",
    "                            dropout=dropout, seed=123)\n",
    "\n",
    "  loss, grads = model.loss(X, y)\n",
    "  print('Initial loss: ', loss)\n",
    "\n",
    "  for name in sorted(grads):\n",
    "    f = lambda _: model.loss(X, y)[0]\n",
    "    grad_num = eval_numerical_gradient(f, model.params[name], verbose=False, h=1e-5)\n",
    "    print('%s relative error: %.2e' % (name, rel_error(grad_num, grads[name])))\n",
    "  print()"
   ]
  },
  {
   "cell_type": "markdown",
   "metadata": {
    "deletable": true,
    "editable": true
   },
   "source": [
    "# Regularization experiment\n",
    "As an experiment, we will train a pair of two-layer networks on 500 training examples: one will use no dropout, and one will use a dropout probability of 0.75. We will then visualize the training and validation accuracies of the two networks over time."
   ]
  },
  {
   "cell_type": "code",
   "execution_count": 26,
   "metadata": {
    "collapsed": false,
    "deletable": true,
    "editable": true,
    "scrolled": false
   },
   "outputs": [
    {
     "name": "stdout",
     "output_type": "stream",
     "text": [
      "[3072, 500, 10]\n",
      "0\n",
      "(Iteration 1 / 1000) loss: 7.622524\n",
      "(Epoch 0 / 100) train acc: 0.191000; val_acc: 0.158000\n",
      "(Epoch 1 / 100) train acc: 0.400000; val_acc: 0.239000\n",
      "(Epoch 2 / 100) train acc: 0.454000; val_acc: 0.257000\n",
      "(Epoch 3 / 100) train acc: 0.597000; val_acc: 0.269000\n",
      "(Epoch 4 / 100) train acc: 0.661000; val_acc: 0.287000\n",
      "(Epoch 5 / 100) train acc: 0.725000; val_acc: 0.285000\n",
      "(Epoch 6 / 100) train acc: 0.761000; val_acc: 0.299000\n",
      "(Epoch 7 / 100) train acc: 0.788000; val_acc: 0.317000\n",
      "(Epoch 8 / 100) train acc: 0.851000; val_acc: 0.320000\n",
      "(Epoch 9 / 100) train acc: 0.852000; val_acc: 0.315000\n",
      "(Epoch 10 / 100) train acc: 0.866000; val_acc: 0.298000\n",
      "(Iteration 101 / 1000) loss: 0.653230\n",
      "(Epoch 11 / 100) train acc: 0.898000; val_acc: 0.338000\n",
      "(Epoch 12 / 100) train acc: 0.895000; val_acc: 0.347000\n",
      "(Epoch 13 / 100) train acc: 0.925000; val_acc: 0.337000\n",
      "(Epoch 14 / 100) train acc: 0.943000; val_acc: 0.323000\n",
      "(Epoch 15 / 100) train acc: 0.951000; val_acc: 0.340000\n",
      "(Epoch 16 / 100) train acc: 0.961000; val_acc: 0.329000\n",
      "(Epoch 17 / 100) train acc: 0.938000; val_acc: 0.324000\n",
      "(Epoch 18 / 100) train acc: 0.930000; val_acc: 0.314000\n",
      "(Epoch 19 / 100) train acc: 0.937000; val_acc: 0.335000\n",
      "(Epoch 20 / 100) train acc: 0.963000; val_acc: 0.324000\n",
      "(Iteration 201 / 1000) loss: 0.087829\n",
      "(Epoch 21 / 100) train acc: 0.966000; val_acc: 0.319000\n",
      "(Epoch 22 / 100) train acc: 0.967000; val_acc: 0.360000\n",
      "(Epoch 23 / 100) train acc: 0.973000; val_acc: 0.357000\n",
      "(Epoch 24 / 100) train acc: 0.974000; val_acc: 0.337000\n",
      "(Epoch 25 / 100) train acc: 0.985000; val_acc: 0.321000\n",
      "(Epoch 26 / 100) train acc: 0.983000; val_acc: 0.330000\n",
      "(Epoch 27 / 100) train acc: 0.988000; val_acc: 0.330000\n",
      "(Epoch 28 / 100) train acc: 0.991000; val_acc: 0.344000\n",
      "(Epoch 29 / 100) train acc: 0.984000; val_acc: 0.343000\n",
      "(Epoch 30 / 100) train acc: 0.970000; val_acc: 0.327000\n",
      "(Iteration 301 / 1000) loss: 0.187354\n",
      "(Epoch 31 / 100) train acc: 0.972000; val_acc: 0.335000\n",
      "(Epoch 32 / 100) train acc: 0.986000; val_acc: 0.342000\n",
      "(Epoch 33 / 100) train acc: 0.965000; val_acc: 0.347000\n",
      "(Epoch 34 / 100) train acc: 0.964000; val_acc: 0.342000\n",
      "(Epoch 35 / 100) train acc: 0.954000; val_acc: 0.341000\n",
      "(Epoch 36 / 100) train acc: 0.975000; val_acc: 0.339000\n",
      "(Epoch 37 / 100) train acc: 0.964000; val_acc: 0.350000\n",
      "(Epoch 38 / 100) train acc: 0.934000; val_acc: 0.329000\n",
      "(Epoch 39 / 100) train acc: 0.961000; val_acc: 0.334000\n",
      "(Epoch 40 / 100) train acc: 0.973000; val_acc: 0.336000\n",
      "(Iteration 401 / 1000) loss: 0.227396\n",
      "(Epoch 41 / 100) train acc: 0.988000; val_acc: 0.340000\n",
      "(Epoch 42 / 100) train acc: 0.959000; val_acc: 0.346000\n",
      "(Epoch 43 / 100) train acc: 0.942000; val_acc: 0.327000\n",
      "(Epoch 44 / 100) train acc: 0.921000; val_acc: 0.350000\n",
      "(Epoch 45 / 100) train acc: 0.921000; val_acc: 0.312000\n",
      "(Epoch 46 / 100) train acc: 0.918000; val_acc: 0.308000\n",
      "(Epoch 47 / 100) train acc: 0.930000; val_acc: 0.326000\n",
      "(Epoch 48 / 100) train acc: 0.894000; val_acc: 0.331000\n",
      "(Epoch 49 / 100) train acc: 0.878000; val_acc: 0.322000\n",
      "(Epoch 50 / 100) train acc: 0.898000; val_acc: 0.308000\n",
      "(Iteration 501 / 1000) loss: 1.373879\n",
      "(Epoch 51 / 100) train acc: 0.925000; val_acc: 0.313000\n",
      "(Epoch 52 / 100) train acc: 0.908000; val_acc: 0.310000\n",
      "(Epoch 53 / 100) train acc: 0.918000; val_acc: 0.314000\n",
      "(Epoch 54 / 100) train acc: 0.953000; val_acc: 0.315000\n",
      "(Epoch 55 / 100) train acc: 0.942000; val_acc: 0.328000\n",
      "(Epoch 56 / 100) train acc: 0.943000; val_acc: 0.328000\n",
      "(Epoch 57 / 100) train acc: 0.959000; val_acc: 0.330000\n",
      "(Epoch 58 / 100) train acc: 0.948000; val_acc: 0.328000\n",
      "(Epoch 59 / 100) train acc: 0.924000; val_acc: 0.321000\n",
      "(Epoch 60 / 100) train acc: 0.949000; val_acc: 0.311000\n",
      "(Iteration 601 / 1000) loss: 0.153753\n",
      "(Epoch 61 / 100) train acc: 0.938000; val_acc: 0.346000\n",
      "(Epoch 62 / 100) train acc: 0.930000; val_acc: 0.319000\n",
      "(Epoch 63 / 100) train acc: 0.958000; val_acc: 0.333000\n",
      "(Epoch 64 / 100) train acc: 0.977000; val_acc: 0.324000\n",
      "(Epoch 65 / 100) train acc: 0.971000; val_acc: 0.329000\n",
      "(Epoch 66 / 100) train acc: 0.958000; val_acc: 0.320000\n",
      "(Epoch 67 / 100) train acc: 0.972000; val_acc: 0.329000\n",
      "(Epoch 68 / 100) train acc: 0.976000; val_acc: 0.337000\n",
      "(Epoch 69 / 100) train acc: 0.980000; val_acc: 0.311000\n",
      "(Epoch 70 / 100) train acc: 0.977000; val_acc: 0.317000\n",
      "(Iteration 701 / 1000) loss: 0.077977\n",
      "(Epoch 71 / 100) train acc: 0.984000; val_acc: 0.322000\n",
      "(Epoch 72 / 100) train acc: 0.988000; val_acc: 0.321000\n",
      "(Epoch 73 / 100) train acc: 0.974000; val_acc: 0.302000\n",
      "(Epoch 74 / 100) train acc: 0.974000; val_acc: 0.329000\n",
      "(Epoch 75 / 100) train acc: 0.953000; val_acc: 0.332000\n",
      "(Epoch 76 / 100) train acc: 0.989000; val_acc: 0.337000\n",
      "(Epoch 77 / 100) train acc: 0.981000; val_acc: 0.328000\n",
      "(Epoch 78 / 100) train acc: 0.983000; val_acc: 0.337000\n",
      "(Epoch 79 / 100) train acc: 0.979000; val_acc: 0.333000\n",
      "(Epoch 80 / 100) train acc: 0.969000; val_acc: 0.324000\n",
      "(Iteration 801 / 1000) loss: 0.200871\n",
      "(Epoch 81 / 100) train acc: 0.968000; val_acc: 0.325000\n",
      "(Epoch 82 / 100) train acc: 0.979000; val_acc: 0.328000\n",
      "(Epoch 83 / 100) train acc: 0.975000; val_acc: 0.347000\n",
      "(Epoch 84 / 100) train acc: 0.967000; val_acc: 0.333000\n",
      "(Epoch 85 / 100) train acc: 0.974000; val_acc: 0.324000\n",
      "(Epoch 86 / 100) train acc: 0.961000; val_acc: 0.330000\n",
      "(Epoch 87 / 100) train acc: 0.975000; val_acc: 0.327000\n",
      "(Epoch 88 / 100) train acc: 0.970000; val_acc: 0.315000\n",
      "(Epoch 89 / 100) train acc: 0.980000; val_acc: 0.329000\n",
      "(Epoch 90 / 100) train acc: 0.954000; val_acc: 0.333000\n",
      "(Iteration 901 / 1000) loss: 1.104853\n",
      "(Epoch 91 / 100) train acc: 0.963000; val_acc: 0.308000\n",
      "(Epoch 92 / 100) train acc: 0.971000; val_acc: 0.326000\n",
      "(Epoch 93 / 100) train acc: 0.956000; val_acc: 0.326000\n",
      "(Epoch 94 / 100) train acc: 0.975000; val_acc: 0.352000\n",
      "(Epoch 95 / 100) train acc: 0.966000; val_acc: 0.315000\n",
      "(Epoch 96 / 100) train acc: 0.965000; val_acc: 0.331000\n",
      "(Epoch 97 / 100) train acc: 0.970000; val_acc: 0.332000\n",
      "(Epoch 98 / 100) train acc: 0.980000; val_acc: 0.307000\n",
      "(Epoch 99 / 100) train acc: 0.947000; val_acc: 0.313000\n",
      "(Epoch 100 / 100) train acc: 0.967000; val_acc: 0.315000\n",
      "[3072, 500, 10]\n",
      "0.3\n",
      "(Iteration 1 / 1000) loss: 12.975298\n",
      "(Epoch 0 / 100) train acc: 0.221000; val_acc: 0.188000\n",
      "(Epoch 1 / 100) train acc: 0.399000; val_acc: 0.294000\n",
      "(Epoch 2 / 100) train acc: 0.465000; val_acc: 0.283000\n",
      "(Epoch 3 / 100) train acc: 0.530000; val_acc: 0.302000\n",
      "(Epoch 4 / 100) train acc: 0.510000; val_acc: 0.302000\n",
      "(Epoch 5 / 100) train acc: 0.586000; val_acc: 0.331000\n",
      "(Epoch 6 / 100) train acc: 0.601000; val_acc: 0.284000\n",
      "(Epoch 7 / 100) train acc: 0.652000; val_acc: 0.326000\n",
      "(Epoch 8 / 100) train acc: 0.637000; val_acc: 0.318000\n",
      "(Epoch 9 / 100) train acc: 0.663000; val_acc: 0.311000\n",
      "(Epoch 10 / 100) train acc: 0.699000; val_acc: 0.319000\n",
      "(Iteration 101 / 1000) loss: 7.963934\n",
      "(Epoch 11 / 100) train acc: 0.745000; val_acc: 0.312000\n",
      "(Epoch 12 / 100) train acc: 0.788000; val_acc: 0.349000\n",
      "(Epoch 13 / 100) train acc: 0.773000; val_acc: 0.335000\n",
      "(Epoch 14 / 100) train acc: 0.795000; val_acc: 0.299000\n",
      "(Epoch 15 / 100) train acc: 0.775000; val_acc: 0.313000\n",
      "(Epoch 16 / 100) train acc: 0.814000; val_acc: 0.354000\n",
      "(Epoch 17 / 100) train acc: 0.831000; val_acc: 0.325000\n",
      "(Epoch 18 / 100) train acc: 0.827000; val_acc: 0.320000\n",
      "(Epoch 19 / 100) train acc: 0.838000; val_acc: 0.321000\n",
      "(Epoch 20 / 100) train acc: 0.820000; val_acc: 0.318000\n",
      "(Iteration 201 / 1000) loss: 4.193821\n",
      "(Epoch 21 / 100) train acc: 0.858000; val_acc: 0.334000\n",
      "(Epoch 22 / 100) train acc: 0.865000; val_acc: 0.324000\n",
      "(Epoch 23 / 100) train acc: 0.870000; val_acc: 0.311000\n",
      "(Epoch 24 / 100) train acc: 0.880000; val_acc: 0.303000\n",
      "(Epoch 25 / 100) train acc: 0.882000; val_acc: 0.325000\n",
      "(Epoch 26 / 100) train acc: 0.809000; val_acc: 0.313000\n",
      "(Epoch 27 / 100) train acc: 0.838000; val_acc: 0.320000\n",
      "(Epoch 28 / 100) train acc: 0.888000; val_acc: 0.352000\n",
      "(Epoch 29 / 100) train acc: 0.869000; val_acc: 0.320000\n",
      "(Epoch 30 / 100) train acc: 0.879000; val_acc: 0.334000\n",
      "(Iteration 301 / 1000) loss: 3.658783\n",
      "(Epoch 31 / 100) train acc: 0.865000; val_acc: 0.332000\n",
      "(Epoch 32 / 100) train acc: 0.885000; val_acc: 0.326000\n",
      "(Epoch 33 / 100) train acc: 0.899000; val_acc: 0.341000\n",
      "(Epoch 34 / 100) train acc: 0.870000; val_acc: 0.313000\n",
      "(Epoch 35 / 100) train acc: 0.856000; val_acc: 0.317000\n",
      "(Epoch 36 / 100) train acc: 0.879000; val_acc: 0.354000\n",
      "(Epoch 37 / 100) train acc: 0.891000; val_acc: 0.320000\n",
      "(Epoch 38 / 100) train acc: 0.905000; val_acc: 0.349000\n",
      "(Epoch 39 / 100) train acc: 0.913000; val_acc: 0.350000\n",
      "(Epoch 40 / 100) train acc: 0.858000; val_acc: 0.324000\n",
      "(Iteration 401 / 1000) loss: 2.977294\n",
      "(Epoch 41 / 100) train acc: 0.907000; val_acc: 0.336000\n",
      "(Epoch 42 / 100) train acc: 0.893000; val_acc: 0.346000\n",
      "(Epoch 43 / 100) train acc: 0.915000; val_acc: 0.341000\n",
      "(Epoch 44 / 100) train acc: 0.898000; val_acc: 0.327000\n",
      "(Epoch 45 / 100) train acc: 0.909000; val_acc: 0.320000\n",
      "(Epoch 46 / 100) train acc: 0.927000; val_acc: 0.327000\n",
      "(Epoch 47 / 100) train acc: 0.925000; val_acc: 0.332000\n",
      "(Epoch 48 / 100) train acc: 0.907000; val_acc: 0.332000\n",
      "(Epoch 49 / 100) train acc: 0.886000; val_acc: 0.306000\n",
      "(Epoch 50 / 100) train acc: 0.910000; val_acc: 0.326000\n",
      "(Iteration 501 / 1000) loss: 2.224823\n",
      "(Epoch 51 / 100) train acc: 0.916000; val_acc: 0.332000\n",
      "(Epoch 52 / 100) train acc: 0.885000; val_acc: 0.284000\n",
      "(Epoch 53 / 100) train acc: 0.910000; val_acc: 0.325000\n",
      "(Epoch 54 / 100) train acc: 0.923000; val_acc: 0.321000\n",
      "(Epoch 55 / 100) train acc: 0.927000; val_acc: 0.308000\n",
      "(Epoch 56 / 100) train acc: 0.913000; val_acc: 0.319000\n",
      "(Epoch 57 / 100) train acc: 0.910000; val_acc: 0.319000\n",
      "(Epoch 58 / 100) train acc: 0.926000; val_acc: 0.291000\n",
      "(Epoch 59 / 100) train acc: 0.912000; val_acc: 0.323000\n",
      "(Epoch 60 / 100) train acc: 0.926000; val_acc: 0.292000\n",
      "(Iteration 601 / 1000) loss: 3.327322\n",
      "(Epoch 61 / 100) train acc: 0.920000; val_acc: 0.328000\n",
      "(Epoch 62 / 100) train acc: 0.919000; val_acc: 0.341000\n",
      "(Epoch 63 / 100) train acc: 0.934000; val_acc: 0.307000\n",
      "(Epoch 64 / 100) train acc: 0.926000; val_acc: 0.334000\n",
      "(Epoch 65 / 100) train acc: 0.953000; val_acc: 0.329000\n",
      "(Epoch 66 / 100) train acc: 0.908000; val_acc: 0.312000\n",
      "(Epoch 67 / 100) train acc: 0.937000; val_acc: 0.338000\n",
      "(Epoch 68 / 100) train acc: 0.930000; val_acc: 0.329000\n",
      "(Epoch 69 / 100) train acc: 0.927000; val_acc: 0.337000\n",
      "(Epoch 70 / 100) train acc: 0.934000; val_acc: 0.335000\n",
      "(Iteration 701 / 1000) loss: 2.788032\n",
      "(Epoch 71 / 100) train acc: 0.909000; val_acc: 0.328000\n",
      "(Epoch 72 / 100) train acc: 0.930000; val_acc: 0.331000\n",
      "(Epoch 73 / 100) train acc: 0.911000; val_acc: 0.345000\n",
      "(Epoch 74 / 100) train acc: 0.943000; val_acc: 0.320000\n",
      "(Epoch 75 / 100) train acc: 0.919000; val_acc: 0.312000\n",
      "(Epoch 76 / 100) train acc: 0.926000; val_acc: 0.334000\n",
      "(Epoch 77 / 100) train acc: 0.928000; val_acc: 0.318000\n",
      "(Epoch 78 / 100) train acc: 0.931000; val_acc: 0.335000\n",
      "(Epoch 79 / 100) train acc: 0.942000; val_acc: 0.342000\n",
      "(Epoch 80 / 100) train acc: 0.924000; val_acc: 0.344000\n",
      "(Iteration 801 / 1000) loss: 4.579506\n",
      "(Epoch 81 / 100) train acc: 0.900000; val_acc: 0.315000\n",
      "(Epoch 82 / 100) train acc: 0.947000; val_acc: 0.345000\n",
      "(Epoch 83 / 100) train acc: 0.962000; val_acc: 0.320000\n",
      "(Epoch 84 / 100) train acc: 0.941000; val_acc: 0.314000\n",
      "(Epoch 85 / 100) train acc: 0.920000; val_acc: 0.312000\n",
      "(Epoch 86 / 100) train acc: 0.958000; val_acc: 0.329000\n",
      "(Epoch 87 / 100) train acc: 0.924000; val_acc: 0.344000\n",
      "(Epoch 88 / 100) train acc: 0.957000; val_acc: 0.312000\n",
      "(Epoch 89 / 100) train acc: 0.960000; val_acc: 0.313000\n",
      "(Epoch 90 / 100) train acc: 0.933000; val_acc: 0.324000\n",
      "(Iteration 901 / 1000) loss: 2.270451\n",
      "(Epoch 91 / 100) train acc: 0.950000; val_acc: 0.311000\n",
      "(Epoch 92 / 100) train acc: 0.921000; val_acc: 0.329000\n",
      "(Epoch 93 / 100) train acc: 0.946000; val_acc: 0.323000\n",
      "(Epoch 94 / 100) train acc: 0.955000; val_acc: 0.328000\n",
      "(Epoch 95 / 100) train acc: 0.927000; val_acc: 0.315000\n",
      "(Epoch 96 / 100) train acc: 0.937000; val_acc: 0.335000\n",
      "(Epoch 97 / 100) train acc: 0.951000; val_acc: 0.335000\n",
      "(Epoch 98 / 100) train acc: 0.952000; val_acc: 0.335000\n",
      "(Epoch 99 / 100) train acc: 0.939000; val_acc: 0.315000\n",
      "(Epoch 100 / 100) train acc: 0.940000; val_acc: 0.328000\n"
     ]
    }
   ],
   "source": [
    "# Train two identical nets, one with dropout and one without\n",
    "np.random.seed(231)\n",
    "num_train = 1000\n",
    "small_data = {\n",
    "  'X_train': data['X_train'][:num_train],\n",
    "  'y_train': data['y_train'][:num_train],\n",
    "  'X_val': data['X_val'],\n",
    "  'y_val': data['y_val'],\n",
    "}\n",
    "\n",
    "solvers = {}\n",
    "dropout_choices = [0, 0.3]\n",
    "for dropout in dropout_choices:\n",
    "  model = FullyConnectedNet([500], dropout=dropout)\n",
    "  print(dropout)\n",
    "\n",
    "  solver = Solver(model, small_data,\n",
    "                  num_epochs=100, batch_size=100,\n",
    "                  update_rule='adam',\n",
    "                  optim_config={\n",
    "                    'learning_rate': 5e-4,\n",
    "                  },\n",
    "                  verbose=True, print_every=100)\n",
    "  solver.train()\n",
    "  solvers[dropout] = solver"
   ]
  },
  {
   "cell_type": "code",
   "execution_count": 27,
   "metadata": {
    "collapsed": false,
    "deletable": true,
    "editable": true
   },
   "outputs": [
    {
     "data": {
      "image/png": "[encoded data removed]",
      "text/plain": [
       "<matplotlib.figure.Figure at 0x7f0bbb8b18d0>"
      ]
     },
     "metadata": {},
     "output_type": "display_data"
    }
   ],
   "source": [
    "# Plot train and validation accuracies of the two models\n",
    "\n",
    "train_accs = []\n",
    "val_accs = []\n",
    "for dropout in dropout_choices:\n",
    "  solver = solvers[dropout]\n",
    "  train_accs.append(solver.train_acc_history[-1])\n",
    "  val_accs.append(solver.val_acc_history[-1])\n",
    "\n",
    "plt.subplot(3, 1, 1)\n",
    "for dropout in dropout_choices:\n",
    "  plt.plot(solvers[dropout].train_acc_history, 'o', label='%.2f dropout' % dropout)\n",
    "plt.title('Train accuracy')\n",
    "plt.xlabel('Epoch')\n",
    "plt.ylabel('Accuracy')\n",
    "plt.legend(ncol=2, loc='lower right')\n",
    "  \n",
    "plt.subplot(3, 1, 2)\n",
    "for dropout in dropout_choices:\n",
    "  plt.plot(solvers[dropout].val_acc_history, 'o', label='%.2f dropout' % dropout)\n",
    "plt.title('Val accuracy')\n",
    "plt.xlabel('Epoch')\n",
    "plt.ylabel('Accuracy')\n",
    "plt.legend(ncol=2, loc='lower right')\n",
    "\n",
    "plt.gcf().set_size_inches(15, 15)\n",
    "plt.show()"
   ]
  },
  {
   "cell_type": "markdown",
   "metadata": {
    "deletable": true,
    "editable": true
   },
   "source": [
    "# Question\n",
    "Explain what you see in this experiment. What does it suggest about dropout?"
   ]
  },
  {
   "cell_type": "markdown",
   "metadata": {
    "deletable": true,
    "editable": true
   },
   "source": [
    "# Answer\n"
   ]
  }
 ],
 "metadata": {
  "kernelspec": {
   "display_name": "Python 2",
   "language": "python",
   "name": "python2"
  },
  "language_info": {
   "codemirror_mode": {
    "name": "ipython",
    "version": 2
   },
   "file_extension": ".py",
   "mimetype": "text/x-python",
   "name": "python",
   "nbconvert_exporter": "python",
   "pygments_lexer": "ipython2",
   "version": "2.7.12"
  }
 },
 "nbformat": 4,
 "nbformat_minor": 0
}
